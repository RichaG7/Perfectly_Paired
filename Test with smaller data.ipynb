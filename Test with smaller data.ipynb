{
 "cells": [
  {
   "cell_type": "code",
   "execution_count": null,
   "metadata": {},
   "outputs": [],
   "source": [
    "import pandas as pd\n",
    "import matplotlib.pyplot as plt\n",
    "import numpy as np\n",
    "\n",
    "## sklearn basics\n",
    "import sklearn\n",
    "from sklearn.model_selection import train_test_split\n",
    "from sklearn.preprocessing import StandardScaler\n",
    "from sklearn.preprocessing import LabelEncoder, MinMaxScaler\n",
    "\n",
    "## Random Forest\n",
    "from sklearn.ensemble import RandomForestClassifier\n",
    "\n",
    "## knn\n",
    "from sklearn.neighbors import KNeighborsClassifier\n",
    "\n",
    "## pickle\n",
    "import pickle"
   ]
  },
  {
   "cell_type": "code",
   "execution_count": null,
   "metadata": {},
   "outputs": [],
   "source": [
    "wine_class = pd.read_csv('Resources/Wine_varieties_classified.csv')\n",
    "del wine_class['Unnamed: 0']\n",
    "wine_class['Red'] = wine_class['is_red'] + 1\n",
    "\n",
    "wine_class = wine_class[['variety', 'is_white', 'Red']]\n",
    "wine_class.columns = ['variety', 'White', 'Red']\n",
    "\n",
    "wine_class.fillna(0)"
   ]
  },
  {
   "cell_type": "code",
   "execution_count": null,
   "metadata": {},
   "outputs": [],
   "source": [
    "wines_to_keep = wine_class.variety.tolist()\n",
    "wines_to_keep"
   ]
  },
  {
   "cell_type": "code",
   "execution_count": null,
   "metadata": {},
   "outputs": [],
   "source": [
    "full_df = pd.read_csv('Resources/Wine_Reviews_ML.csv')\n",
    "full_df"
   ]
  },
  {
   "cell_type": "code",
   "execution_count": null,
   "metadata": {},
   "outputs": [],
   "source": [
    "subset = full_df.loc[full_df.variety.isin(wines_to_keep)]\n",
    "\n",
    "subset"
   ]
  },
  {
   "cell_type": "code",
   "execution_count": null,
   "metadata": {},
   "outputs": [],
   "source": [
    "merge_df = subset.merge(wine_class, on='variety', suffixes = (\"\",\"\"))\n",
    "\n",
    "merge_df"
   ]
  },
  {
   "cell_type": "code",
   "execution_count": null,
   "metadata": {},
   "outputs": [],
   "source": [
    "adjective_list = [\"ripe\", \"crisp\", \"mature\", \"tropical\", \"rich\", \"sweet\", \"herbal\", \"full-bodied\", \"fresh\", \"exotic\",\n",
    "                  \"floral\", \"honeyed\", \"fruity\", \"smooth\", \"soft\", \"bright\", \"vibrant\", \"elegant\", \"dry\", \"earthy\",\n",
    "                  \"rubbery\", \"tannic\", \"aromatic\", \"savory\", \"meaty\", \"vanilla\", \"candied\", \"toasted\", \"rare\", \n",
    "                  \"delicate\", \"smoky\", \"bitter\", \"ginger\", \"fragrant\", \"layered\", \"intense\", \"traditional\", \"nutty\",\n",
    "                  \"balanced\", \"lemony\", \"citric\", \"rose\", \"well-known\", \"little-known\"]"
   ]
  },
  {
   "cell_type": "code",
   "execution_count": null,
   "metadata": {},
   "outputs": [],
   "source": [
    "for item in adjective_list:\n",
    "    merge_df[item] = 0\n",
    "\n",
    "for item in adjective_list:\n",
    "    for index, row in merge_df.iterrows():\n",
    "        merge_df[item][index] += merge_df['description_split'][index].count(item)\n",
    "        "
   ]
  },
  {
   "cell_type": "code",
   "execution_count": null,
   "metadata": {},
   "outputs": [],
   "source": [
    "del merge_df['description']\n",
    "\n",
    "merge_df.to_csv('Resources/Filtered_ML.csv', index=False)"
   ]
  },
  {
   "cell_type": "code",
   "execution_count": null,
   "metadata": {},
   "outputs": [],
   "source": [
    "merge_df = pd.read_csv('Resources/Filtered_ML.csv')\n",
    "merge_df.head()"
   ]
  },
  {
   "cell_type": "code",
   "execution_count": null,
   "metadata": {},
   "outputs": [],
   "source": [
    "merge_df = pd.get_dummies(merge_df, columns=['country','province'], prefix=None)\n",
    "\n",
    "merge_df.head()"
   ]
  },
  {
   "cell_type": "code",
   "execution_count": null,
   "metadata": {},
   "outputs": [],
   "source": [
    "# Set features. This will also be used as your x values.\n",
    "merge_df = merge_df.drop([\"description_split\"], axis=1)\n",
    "merge_df['White'] = merge_df['White'].fillna(0)\n",
    "merge_df['Red'] = merge_df['Red'].fillna(0)\n",
    "\n",
    "\n",
    "merge_df.to_csv(\"Resources/Filtered_ML_matrix_forVar.csv\", index=False)"
   ]
  },
  {
   "cell_type": "code",
   "execution_count": null,
   "metadata": {},
   "outputs": [],
   "source": [
    "merge_df = pd.read_csv(\"Resources/Filtered_ML_matrix_forVar.csv\")\n",
    "\n",
    "merge_df.head()"
   ]
  },
  {
   "cell_type": "code",
   "execution_count": null,
   "metadata": {},
   "outputs": [],
   "source": [
    "X = merge_df.drop([\"variety\"], axis=1)\n",
    "y = merge_df[\"variety\"]\n",
    "\n",
    "# Step 1: Label-encode data set\n",
    "label_encoder = LabelEncoder()\n",
    "label_encoder.fit(y)\n",
    "encoded_y = label_encoder.transform(y)\n",
    "\n",
    "\n",
    "X_train, X_test, y_train, y_test = train_test_split(X, encoded_y, random_state=42)\n",
    "\n",
    "X_train.head()"
   ]
  },
  {
   "cell_type": "code",
   "execution_count": null,
   "metadata": {},
   "outputs": [],
   "source": [
    "# Scale your data\n",
    "\n",
    "X_scaler = StandardScaler().fit(X_train)\n",
    "\n",
    "X_train_scaled = X_scaler.transform(X_train)\n",
    "X_test_scaled = X_scaler.transform(X_test)"
   ]
  },
  {
   "cell_type": "code",
   "execution_count": null,
   "metadata": {},
   "outputs": [],
   "source": [
    "clf = tree.DecisionTreeClassifier()\n",
    "clf = clf.fit(X_train, y_train)\n",
    "clf.score(X_test, y_test)"
   ]
  },
  {
   "cell_type": "code",
   "execution_count": null,
   "metadata": {},
   "outputs": [],
   "source": [
    "rf = RandomForestClassifier(n_estimators=200)\n",
    "rf = rf.fit(X_train, y_train)\n",
    "rf.score(X_test, y_test)"
   ]
  },
  {
   "cell_type": "code",
   "execution_count": null,
   "metadata": {},
   "outputs": [],
   "source": [
    "train_scores = []\n",
    "test_scores = []\n",
    "for k in range(1, 20, 2):\n",
    "    knn = KNeighborsClassifier(n_neighbors=k)\n",
    "    knn.fit(X_train_scaled, y_train)\n",
    "    train_score = knn.score(X_train_scaled, y_train)\n",
    "    test_score = knn.score(X_test_scaled, y_test)\n",
    "    train_scores.append(train_score)\n",
    "    test_scores.append(test_score)\n",
    "    print(f\"k: {k}, Train/Test Score: {train_score:.3f}/{test_score:.3f}\")"
   ]
  },
  {
   "cell_type": "code",
   "execution_count": null,
   "metadata": {},
   "outputs": [],
   "source": [
    "merge_df['White'] = merge_df['White'].map({1: 'White', 0: 'Red'})\n",
    "merge_df = merge_df.rename(columns={'White': 'Category'})\n",
    "\n",
    "del merge_df['Red']\n"
   ]
  },
  {
   "cell_type": "code",
   "execution_count": null,
   "metadata": {},
   "outputs": [],
   "source": [
    "merge_df = pd.get_dummies(merge_df, columns=['variety'], prefix=None)\n",
    "\n",
    "merge_df.to_csv(\"Resources/Filtered_ML_matrix_forCat.csv\", index=False)\n"
   ]
  },
  {
   "cell_type": "code",
   "execution_count": null,
   "metadata": {},
   "outputs": [],
   "source": []
  },
  {
   "cell_type": "code",
   "execution_count": null,
   "metadata": {},
   "outputs": [],
   "source": [
    "merge_df = pd.read_csv(\"Resources/Filtered_ML_matrix_forCat.csv\")\n",
    "\n",
    "merge_df.head()"
   ]
  },
  {
   "cell_type": "code",
   "execution_count": null,
   "metadata": {},
   "outputs": [],
   "source": [
    "X = merge_df.drop([\"Category\"], axis=1)\n",
    "y = merge_df[\"Category\"]\n",
    "\n",
    "# Step 1: Label-encode data set\n",
    "label_encoder = LabelEncoder()\n",
    "label_encoder.fit(y)\n",
    "encoded_y = label_encoder.transform(y)\n",
    "\n",
    "\n",
    "X_train, X_test, y_train, y_test = train_test_split(X, encoded_y, random_state=42)\n",
    "\n",
    "X_train.head()"
   ]
  },
  {
   "cell_type": "code",
   "execution_count": null,
   "metadata": {},
   "outputs": [],
   "source": [
    "# Scale your data\n",
    "\n",
    "X_scaler = StandardScaler().fit(X_train)\n",
    "\n",
    "X_train_scaled = X_scaler.transform(X_train)\n",
    "X_test_scaled = X_scaler.transform(X_test)"
   ]
  },
  {
   "cell_type": "code",
   "execution_count": null,
   "metadata": {},
   "outputs": [],
   "source": [
    "clf = tree.DecisionTreeClassifier()\n",
    "clf = clf.fit(X_train, y_train)\n",
    "clf.score(X_test, y_test)"
   ]
  },
  {
   "cell_type": "code",
   "execution_count": null,
   "metadata": {},
   "outputs": [],
   "source": [
    "rf = RandomForestClassifier(n_estimators=200)\n",
    "rf = rf.fit(X_train, y_train)\n",
    "rf.score(X_test, y_test)"
   ]
  },
  {
   "cell_type": "code",
   "execution_count": null,
   "metadata": {},
   "outputs": [],
   "source": [
    "# Save model\n",
    "\n",
    "vectorizer_file = \"tokenizer.sklearn\"\n",
    "pickle.dump(count_vect, open(vectorizer_file,'wb'))\n",
    "\n",
    "tokenizer_file = \"vectorizer.sklearn\"\n",
    "pickle.dump(tfidf_transformer, open(tokenizer_file,'wb'))\n",
    "\n",
    "NBModel = 'sentiment_scoring.sklearn'\n",
    "pickle.dump(clf, open(NBModel, 'wb'))"
   ]
  },
  {
   "cell_type": "code",
   "execution_count": null,
   "metadata": {},
   "outputs": [],
   "source": [
    "# Reusing model\n",
    "vectorizer = pickle.load(open(vectorizer_file, 'rb'))\n",
    "tokenizer = pickle.load(open(tokenizer_file, 'rb'))\n",
    "nbModel = pickle.load(open(NBModel, 'rb'))\n",
    "\n",
    "user_input=['fruity','apple','dry','chocolate','red','italy']\n",
    "X_new = vectorizer.transform(user_input)\n",
    "X_new = tokenizer.transform(X_new)\n",
    "result = nbModel.predict(X_new)\n",
    "print(result)"
   ]
  }
 ],
 "metadata": {
  "kernelspec": {
   "display_name": "Python 3",
   "language": "python",
   "name": "python3"
  },
  "language_info": {
   "codemirror_mode": {
    "name": "ipython",
    "version": 3
   },
   "file_extension": ".py",
   "mimetype": "text/x-python",
   "name": "python",
   "nbconvert_exporter": "python",
   "pygments_lexer": "ipython3",
   "version": "3.7.4"
  }
 },
 "nbformat": 4,
 "nbformat_minor": 2
}
