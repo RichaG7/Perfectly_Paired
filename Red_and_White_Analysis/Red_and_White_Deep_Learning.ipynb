{
 "cells": [
  {
   "cell_type": "code",
   "execution_count": 1,
   "metadata": {},
   "outputs": [],
   "source": [
    "from numpy.random import seed\n",
    "seed(1)"
   ]
  },
  {
   "cell_type": "code",
   "execution_count": 2,
   "metadata": {},
   "outputs": [],
   "source": [
    "import pandas as pd\n",
    "%matplotlib inline\n",
    "import matplotlib.pyplot as plt\n",
    "import numpy as np"
   ]
  },
  {
   "cell_type": "code",
   "execution_count": 3,
   "metadata": {},
   "outputs": [
    {
     "data": {
      "text/plain": [
       "'2.3.0-tf'"
      ]
     },
     "execution_count": 3,
     "metadata": {},
     "output_type": "execute_result"
    }
   ],
   "source": [
    "import tensorflow\n",
    "tensorflow.keras.__version__"
   ]
  },
  {
   "cell_type": "code",
   "execution_count": 4,
   "metadata": {},
   "outputs": [
    {
     "data": {
      "text/html": [
       "<div>\n",
       "<style scoped>\n",
       "    .dataframe tbody tr th:only-of-type {\n",
       "        vertical-align: middle;\n",
       "    }\n",
       "\n",
       "    .dataframe tbody tr th {\n",
       "        vertical-align: top;\n",
       "    }\n",
       "\n",
       "    .dataframe thead th {\n",
       "        text-align: right;\n",
       "    }\n",
       "</style>\n",
       "<table border=\"1\" class=\"dataframe\">\n",
       "  <thead>\n",
       "    <tr style=\"text-align: right;\">\n",
       "      <th></th>\n",
       "      <th>fixed acidity</th>\n",
       "      <th>volatile acidity</th>\n",
       "      <th>citric acid</th>\n",
       "      <th>residual sugar</th>\n",
       "      <th>chlorides</th>\n",
       "      <th>free sulfur dioxide</th>\n",
       "      <th>total sulfur dioxide</th>\n",
       "      <th>density</th>\n",
       "      <th>pH</th>\n",
       "      <th>sulphates</th>\n",
       "      <th>alcohol</th>\n",
       "      <th>quality</th>\n",
       "      <th>type</th>\n",
       "    </tr>\n",
       "  </thead>\n",
       "  <tbody>\n",
       "    <tr>\n",
       "      <td>0</td>\n",
       "      <td>7.4</td>\n",
       "      <td>0.70</td>\n",
       "      <td>0.00</td>\n",
       "      <td>1.9</td>\n",
       "      <td>0.076</td>\n",
       "      <td>11.0</td>\n",
       "      <td>34.0</td>\n",
       "      <td>0.9978</td>\n",
       "      <td>3.51</td>\n",
       "      <td>0.56</td>\n",
       "      <td>9.4</td>\n",
       "      <td>5</td>\n",
       "      <td>0</td>\n",
       "    </tr>\n",
       "    <tr>\n",
       "      <td>1</td>\n",
       "      <td>7.8</td>\n",
       "      <td>0.88</td>\n",
       "      <td>0.00</td>\n",
       "      <td>2.6</td>\n",
       "      <td>0.098</td>\n",
       "      <td>25.0</td>\n",
       "      <td>67.0</td>\n",
       "      <td>0.9968</td>\n",
       "      <td>3.20</td>\n",
       "      <td>0.68</td>\n",
       "      <td>9.8</td>\n",
       "      <td>5</td>\n",
       "      <td>0</td>\n",
       "    </tr>\n",
       "    <tr>\n",
       "      <td>2</td>\n",
       "      <td>7.8</td>\n",
       "      <td>0.76</td>\n",
       "      <td>0.04</td>\n",
       "      <td>2.3</td>\n",
       "      <td>0.092</td>\n",
       "      <td>15.0</td>\n",
       "      <td>54.0</td>\n",
       "      <td>0.9970</td>\n",
       "      <td>3.26</td>\n",
       "      <td>0.65</td>\n",
       "      <td>9.8</td>\n",
       "      <td>5</td>\n",
       "      <td>0</td>\n",
       "    </tr>\n",
       "    <tr>\n",
       "      <td>3</td>\n",
       "      <td>11.2</td>\n",
       "      <td>0.28</td>\n",
       "      <td>0.56</td>\n",
       "      <td>1.9</td>\n",
       "      <td>0.075</td>\n",
       "      <td>17.0</td>\n",
       "      <td>60.0</td>\n",
       "      <td>0.9980</td>\n",
       "      <td>3.16</td>\n",
       "      <td>0.58</td>\n",
       "      <td>9.8</td>\n",
       "      <td>6</td>\n",
       "      <td>0</td>\n",
       "    </tr>\n",
       "    <tr>\n",
       "      <td>4</td>\n",
       "      <td>7.4</td>\n",
       "      <td>0.70</td>\n",
       "      <td>0.00</td>\n",
       "      <td>1.9</td>\n",
       "      <td>0.076</td>\n",
       "      <td>11.0</td>\n",
       "      <td>34.0</td>\n",
       "      <td>0.9978</td>\n",
       "      <td>3.51</td>\n",
       "      <td>0.56</td>\n",
       "      <td>9.4</td>\n",
       "      <td>5</td>\n",
       "      <td>0</td>\n",
       "    </tr>\n",
       "  </tbody>\n",
       "</table>\n",
       "</div>"
      ],
      "text/plain": [
       "   fixed acidity  volatile acidity  citric acid  residual sugar  chlorides  \\\n",
       "0            7.4              0.70         0.00             1.9      0.076   \n",
       "1            7.8              0.88         0.00             2.6      0.098   \n",
       "2            7.8              0.76         0.04             2.3      0.092   \n",
       "3           11.2              0.28         0.56             1.9      0.075   \n",
       "4            7.4              0.70         0.00             1.9      0.076   \n",
       "\n",
       "   free sulfur dioxide  total sulfur dioxide  density    pH  sulphates  \\\n",
       "0                 11.0                  34.0   0.9978  3.51       0.56   \n",
       "1                 25.0                  67.0   0.9968  3.20       0.68   \n",
       "2                 15.0                  54.0   0.9970  3.26       0.65   \n",
       "3                 17.0                  60.0   0.9980  3.16       0.58   \n",
       "4                 11.0                  34.0   0.9978  3.51       0.56   \n",
       "\n",
       "   alcohol  quality  type  \n",
       "0      9.4        5     0  \n",
       "1      9.8        5     0  \n",
       "2      9.8        5     0  \n",
       "3      9.8        6     0  \n",
       "4      9.4        5     0  "
      ]
     },
     "execution_count": 4,
     "metadata": {},
     "output_type": "execute_result"
    }
   ],
   "source": [
    "df = pd.read_csv(\"Data/red_wine_combined.csv\")\n",
    "# Drop the null columns where all values are null\n",
    "df = df.dropna(axis='columns', how='all')\n",
    "# Drop the null rows\n",
    "df = df.dropna()\n",
    "df.head()"
   ]
  },
  {
   "cell_type": "code",
   "execution_count": 5,
   "metadata": {},
   "outputs": [
    {
     "name": "stdout",
     "output_type": "stream",
     "text": [
      "(6497, 11) (6497,)\n"
     ]
    }
   ],
   "source": [
    "#note - 0 is red and 1 is white\n",
    "X = df.drop([\"quality\", \"type\"], axis = 1)\n",
    "y = df[\"type\"]\n",
    "#y = df[\"type\"].values.reshape(-1,1)\n",
    "\n",
    "print(X.shape, y.shape)"
   ]
  },
  {
   "cell_type": "code",
   "execution_count": 6,
   "metadata": {},
   "outputs": [],
   "source": [
    "from sklearn.model_selection import train_test_split\n",
    "X_train, X_test, y_train, y_test = train_test_split(X, y, random_state=1)"
   ]
  },
  {
   "cell_type": "code",
   "execution_count": 7,
   "metadata": {},
   "outputs": [],
   "source": [
    "from sklearn.preprocessing import MinMaxScaler\n",
    "X_scaler = MinMaxScaler().fit(X_train)\n",
    "X_train_scaled = X_scaler.transform(X_train)\n",
    "X_test_scaled = X_scaler.transform(X_test)"
   ]
  },
  {
   "cell_type": "code",
   "execution_count": 8,
   "metadata": {},
   "outputs": [],
   "source": [
    "from tensorflow.keras.utils import to_categorical\n",
    "y_train_categorical = to_categorical(y_train)\n",
    "y_test_categorical = to_categorical(y_test)"
   ]
  },
  {
   "cell_type": "markdown",
   "metadata": {},
   "source": [
    "## Deep Learning Model"
   ]
  },
  {
   "cell_type": "code",
   "execution_count": 9,
   "metadata": {},
   "outputs": [],
   "source": [
    "from tensorflow.keras.models import Sequential\n",
    "from tensorflow.keras.layers import Dense"
   ]
  },
  {
   "cell_type": "code",
   "execution_count": 10,
   "metadata": {},
   "outputs": [],
   "source": [
    "# Create model and add layers\n",
    "deep_model = Sequential()\n",
    "deep_model.add(Dense(units=100, activation='relu', input_dim=11))\n",
    "deep_model.add(Dense(units=100, activation='relu'))\n",
    "deep_model.add(Dense(units=2, activation='softmax'))\n",
    "\n",
    "#deep_model = Sequential()\n",
    "#deep_model.add(Dense(units=500, activation='relu', input_dim=11))\n",
    "#deep_model.add(Dense(units=1000, activation='relu'))\n",
    "#deep_model.add(Dense(units=1000, activation='relu'))\n",
    "#deep_model.add(Dense(units=200, activation='relu'))\n",
    "#deep_model.add(Dense(units=2, activation='softmax'))"
   ]
  },
  {
   "cell_type": "code",
   "execution_count": 11,
   "metadata": {},
   "outputs": [],
   "source": [
    " # Create model and add layers\n",
    "deep_model.compile(optimizer='adam',\n",
    "              loss='categorical_crossentropy',\n",
    "              metrics=['accuracy'])"
   ]
  },
  {
   "cell_type": "code",
   "execution_count": 12,
   "metadata": {},
   "outputs": [
    {
     "name": "stdout",
     "output_type": "stream",
     "text": [
      "Model: \"sequential\"\n",
      "_________________________________________________________________\n",
      "Layer (type)                 Output Shape              Param #   \n",
      "=================================================================\n",
      "dense (Dense)                (None, 100)               1200      \n",
      "_________________________________________________________________\n",
      "dense_1 (Dense)              (None, 100)               10100     \n",
      "_________________________________________________________________\n",
      "dense_2 (Dense)              (None, 2)                 202       \n",
      "=================================================================\n",
      "Total params: 11,502\n",
      "Trainable params: 11,502\n",
      "Non-trainable params: 0\n",
      "_________________________________________________________________\n"
     ]
    }
   ],
   "source": [
    "deep_model.summary()"
   ]
  },
  {
   "cell_type": "code",
   "execution_count": 13,
   "metadata": {},
   "outputs": [
    {
     "name": "stdout",
     "output_type": "stream",
     "text": [
      "Epoch 1/100\n",
      "153/153 - 0s - loss: 0.2437 - accuracy: 0.9037\n",
      "Epoch 2/100\n",
      "153/153 - 0s - loss: 0.0509 - accuracy: 0.9852\n",
      "Epoch 3/100\n",
      "153/153 - 0s - loss: 0.0428 - accuracy: 0.9887\n",
      "Epoch 4/100\n",
      "153/153 - 0s - loss: 0.0362 - accuracy: 0.9908\n",
      "Epoch 5/100\n",
      "153/153 - 0s - loss: 0.0332 - accuracy: 0.9901\n",
      "Epoch 6/100\n",
      "153/153 - 0s - loss: 0.0312 - accuracy: 0.9916\n",
      "Epoch 7/100\n",
      "153/153 - 0s - loss: 0.0280 - accuracy: 0.9938\n",
      "Epoch 8/100\n",
      "153/153 - 0s - loss: 0.0264 - accuracy: 0.9936\n",
      "Epoch 9/100\n",
      "153/153 - 0s - loss: 0.0253 - accuracy: 0.9943\n",
      "Epoch 10/100\n",
      "153/153 - 0s - loss: 0.0249 - accuracy: 0.9924\n",
      "Epoch 11/100\n",
      "153/153 - 0s - loss: 0.0225 - accuracy: 0.9945\n",
      "Epoch 12/100\n",
      "153/153 - 0s - loss: 0.0223 - accuracy: 0.9945\n",
      "Epoch 13/100\n",
      "153/153 - 0s - loss: 0.0198 - accuracy: 0.9953\n",
      "Epoch 14/100\n",
      "153/153 - 0s - loss: 0.0194 - accuracy: 0.9947\n",
      "Epoch 15/100\n",
      "153/153 - 0s - loss: 0.0211 - accuracy: 0.9949\n",
      "Epoch 16/100\n",
      "153/153 - 0s - loss: 0.0191 - accuracy: 0.9953\n",
      "Epoch 17/100\n",
      "153/153 - 0s - loss: 0.0206 - accuracy: 0.9947\n",
      "Epoch 18/100\n",
      "153/153 - 0s - loss: 0.0184 - accuracy: 0.9957\n",
      "Epoch 19/100\n",
      "153/153 - 0s - loss: 0.0167 - accuracy: 0.9971\n",
      "Epoch 20/100\n",
      "153/153 - 0s - loss: 0.0181 - accuracy: 0.9965\n",
      "Epoch 21/100\n",
      "153/153 - 0s - loss: 0.0178 - accuracy: 0.9959\n",
      "Epoch 22/100\n",
      "153/153 - 0s - loss: 0.0162 - accuracy: 0.9967\n",
      "Epoch 23/100\n",
      "153/153 - 0s - loss: 0.0175 - accuracy: 0.9959\n",
      "Epoch 24/100\n",
      "153/153 - 0s - loss: 0.0149 - accuracy: 0.9973\n",
      "Epoch 25/100\n",
      "153/153 - 0s - loss: 0.0158 - accuracy: 0.9965\n",
      "Epoch 26/100\n",
      "153/153 - 0s - loss: 0.0170 - accuracy: 0.9955\n",
      "Epoch 27/100\n",
      "153/153 - 0s - loss: 0.0170 - accuracy: 0.9961\n",
      "Epoch 28/100\n",
      "153/153 - 0s - loss: 0.0157 - accuracy: 0.9961\n",
      "Epoch 29/100\n",
      "153/153 - 0s - loss: 0.0137 - accuracy: 0.9969\n",
      "Epoch 30/100\n",
      "153/153 - 0s - loss: 0.0149 - accuracy: 0.9965\n",
      "Epoch 31/100\n",
      "153/153 - 0s - loss: 0.0135 - accuracy: 0.9971\n",
      "Epoch 32/100\n",
      "153/153 - 0s - loss: 0.0151 - accuracy: 0.9961\n",
      "Epoch 33/100\n",
      "153/153 - 0s - loss: 0.0143 - accuracy: 0.9967\n",
      "Epoch 34/100\n",
      "153/153 - 0s - loss: 0.0193 - accuracy: 0.9951\n",
      "Epoch 35/100\n",
      "153/153 - 0s - loss: 0.0147 - accuracy: 0.9967\n",
      "Epoch 36/100\n",
      "153/153 - 0s - loss: 0.0125 - accuracy: 0.9977\n",
      "Epoch 37/100\n",
      "153/153 - 0s - loss: 0.0126 - accuracy: 0.9971\n",
      "Epoch 38/100\n",
      "153/153 - 0s - loss: 0.0126 - accuracy: 0.9973\n",
      "Epoch 39/100\n",
      "153/153 - 0s - loss: 0.0116 - accuracy: 0.9973\n",
      "Epoch 40/100\n",
      "153/153 - 0s - loss: 0.0119 - accuracy: 0.9971\n",
      "Epoch 41/100\n",
      "153/153 - 0s - loss: 0.0118 - accuracy: 0.9973\n",
      "Epoch 42/100\n",
      "153/153 - 0s - loss: 0.0112 - accuracy: 0.9971\n",
      "Epoch 43/100\n",
      "153/153 - 0s - loss: 0.0118 - accuracy: 0.9977\n",
      "Epoch 44/100\n",
      "153/153 - 0s - loss: 0.0145 - accuracy: 0.9963\n",
      "Epoch 45/100\n",
      "153/153 - 0s - loss: 0.0134 - accuracy: 0.9967\n",
      "Epoch 46/100\n",
      "153/153 - 0s - loss: 0.0125 - accuracy: 0.9967\n",
      "Epoch 47/100\n",
      "153/153 - 0s - loss: 0.0122 - accuracy: 0.9969\n",
      "Epoch 48/100\n",
      "153/153 - 0s - loss: 0.0126 - accuracy: 0.9967\n",
      "Epoch 49/100\n",
      "153/153 - 0s - loss: 0.0113 - accuracy: 0.9975\n",
      "Epoch 50/100\n",
      "153/153 - 0s - loss: 0.0117 - accuracy: 0.9971\n",
      "Epoch 51/100\n",
      "153/153 - 0s - loss: 0.0104 - accuracy: 0.9973\n",
      "Epoch 52/100\n",
      "153/153 - 0s - loss: 0.0105 - accuracy: 0.9975\n",
      "Epoch 53/100\n",
      "153/153 - 0s - loss: 0.0107 - accuracy: 0.9975\n",
      "Epoch 54/100\n",
      "153/153 - 0s - loss: 0.0101 - accuracy: 0.9971\n",
      "Epoch 55/100\n",
      "153/153 - 0s - loss: 0.0109 - accuracy: 0.9979\n",
      "Epoch 56/100\n",
      "153/153 - 0s - loss: 0.0108 - accuracy: 0.9977\n",
      "Epoch 57/100\n",
      "153/153 - 0s - loss: 0.0094 - accuracy: 0.9977\n",
      "Epoch 58/100\n",
      "153/153 - 0s - loss: 0.0087 - accuracy: 0.9979\n",
      "Epoch 59/100\n",
      "153/153 - 0s - loss: 0.0092 - accuracy: 0.9977\n",
      "Epoch 60/100\n",
      "153/153 - 0s - loss: 0.0130 - accuracy: 0.9963\n",
      "Epoch 61/100\n",
      "153/153 - 0s - loss: 0.0097 - accuracy: 0.9977\n",
      "Epoch 62/100\n",
      "153/153 - 0s - loss: 0.0089 - accuracy: 0.9979\n",
      "Epoch 63/100\n",
      "153/153 - 0s - loss: 0.0087 - accuracy: 0.9984\n",
      "Epoch 64/100\n",
      "153/153 - 0s - loss: 0.0078 - accuracy: 0.9979\n",
      "Epoch 65/100\n",
      "153/153 - 0s - loss: 0.0101 - accuracy: 0.9977\n",
      "Epoch 66/100\n",
      "153/153 - 0s - loss: 0.0091 - accuracy: 0.9977\n",
      "Epoch 67/100\n",
      "153/153 - 0s - loss: 0.0082 - accuracy: 0.9984\n",
      "Epoch 68/100\n",
      "153/153 - 0s - loss: 0.0096 - accuracy: 0.9973\n",
      "Epoch 69/100\n",
      "153/153 - 0s - loss: 0.0107 - accuracy: 0.9971\n",
      "Epoch 70/100\n",
      "153/153 - 0s - loss: 0.0083 - accuracy: 0.9982\n",
      "Epoch 71/100\n",
      "153/153 - 0s - loss: 0.0092 - accuracy: 0.9971\n",
      "Epoch 72/100\n",
      "153/153 - 0s - loss: 0.0129 - accuracy: 0.9969\n",
      "Epoch 73/100\n",
      "153/153 - 0s - loss: 0.0088 - accuracy: 0.9975\n",
      "Epoch 74/100\n",
      "153/153 - 0s - loss: 0.0228 - accuracy: 0.9932\n",
      "Epoch 75/100\n",
      "153/153 - 0s - loss: 0.0143 - accuracy: 0.9961\n",
      "Epoch 76/100\n",
      "153/153 - 0s - loss: 0.0087 - accuracy: 0.9982\n",
      "Epoch 77/100\n",
      "153/153 - 0s - loss: 0.0080 - accuracy: 0.9979\n",
      "Epoch 78/100\n",
      "153/153 - 0s - loss: 0.0073 - accuracy: 0.9982\n",
      "Epoch 79/100\n",
      "153/153 - 0s - loss: 0.0071 - accuracy: 0.9984\n",
      "Epoch 80/100\n",
      "153/153 - 0s - loss: 0.0072 - accuracy: 0.9979\n",
      "Epoch 81/100\n",
      "153/153 - 0s - loss: 0.0072 - accuracy: 0.9986\n",
      "Epoch 82/100\n",
      "153/153 - 0s - loss: 0.0071 - accuracy: 0.9984\n",
      "Epoch 83/100\n",
      "153/153 - 0s - loss: 0.0075 - accuracy: 0.9982\n",
      "Epoch 84/100\n",
      "153/153 - 0s - loss: 0.0066 - accuracy: 0.9986\n",
      "Epoch 85/100\n",
      "153/153 - 0s - loss: 0.0131 - accuracy: 0.9967\n",
      "Epoch 86/100\n",
      "153/153 - 0s - loss: 0.0067 - accuracy: 0.9984\n",
      "Epoch 87/100\n",
      "153/153 - 0s - loss: 0.0075 - accuracy: 0.9984\n",
      "Epoch 88/100\n",
      "153/153 - 0s - loss: 0.0071 - accuracy: 0.9986\n",
      "Epoch 89/100\n",
      "153/153 - 0s - loss: 0.0064 - accuracy: 0.9988\n",
      "Epoch 90/100\n",
      "153/153 - 0s - loss: 0.0069 - accuracy: 0.9986\n",
      "Epoch 91/100\n",
      "153/153 - 0s - loss: 0.0067 - accuracy: 0.9982\n",
      "Epoch 92/100\n",
      "153/153 - 0s - loss: 0.0071 - accuracy: 0.9986\n",
      "Epoch 93/100\n",
      "153/153 - 0s - loss: 0.0082 - accuracy: 0.9977\n",
      "Epoch 94/100\n",
      "153/153 - 0s - loss: 0.0074 - accuracy: 0.9975\n",
      "Epoch 95/100\n",
      "153/153 - 0s - loss: 0.0062 - accuracy: 0.9986\n",
      "Epoch 96/100\n",
      "153/153 - 0s - loss: 0.0066 - accuracy: 0.9988\n",
      "Epoch 97/100\n",
      "153/153 - 0s - loss: 0.0061 - accuracy: 0.9986\n",
      "Epoch 98/100\n",
      "153/153 - 0s - loss: 0.0090 - accuracy: 0.9977\n",
      "Epoch 99/100\n",
      "153/153 - 0s - loss: 0.0093 - accuracy: 0.9973\n",
      "Epoch 100/100\n",
      "153/153 - 0s - loss: 0.0066 - accuracy: 0.9979\n"
     ]
    },
    {
     "data": {
      "text/plain": [
       "<tensorflow.python.keras.callbacks.History at 0x7ff5b3552fd0>"
      ]
     },
     "execution_count": 13,
     "metadata": {},
     "output_type": "execute_result"
    }
   ],
   "source": [
    "deep_model.fit(\n",
    "    X_train_scaled,\n",
    "    y_train_categorical,\n",
    "    epochs=100,\n",
    "    shuffle=True,\n",
    "    verbose=2\n",
    ")"
   ]
  },
  {
   "cell_type": "markdown",
   "metadata": {},
   "source": [
    "## Quantify our Trained Model"
   ]
  },
  {
   "cell_type": "code",
   "execution_count": 14,
   "metadata": {},
   "outputs": [
    {
     "name": "stdout",
     "output_type": "stream",
     "text": [
      "51/51 - 0s - loss: 0.0380 - accuracy: 0.9951\n",
      "Normal Neural Network - Loss: 0.0379987433552742, Accuracy: 0.9950768947601318\n"
     ]
    }
   ],
   "source": [
    "model_loss, model_accuracy = deep_model.evaluate(\n",
    "    X_test_scaled, y_test_categorical, verbose=2)\n",
    "print(\n",
    "    f\"Normal Neural Network - Loss: {model_loss}, Accuracy: {model_accuracy}\")"
   ]
  },
  {
   "cell_type": "markdown",
   "metadata": {},
   "source": [
    "## Make Predictions"
   ]
  },
  {
   "cell_type": "code",
   "execution_count": 15,
   "metadata": {
    "scrolled": true
   },
   "outputs": [
    {
     "name": "stdout",
     "output_type": "stream",
     "text": [
      "WARNING:tensorflow:From <ipython-input-15-2134a8909957>:1: Sequential.predict_classes (from tensorflow.python.keras.engine.sequential) is deprecated and will be removed after 2021-01-01.\n",
      "Instructions for updating:\n",
      "Please use instead:* `np.argmax(model.predict(x), axis=-1)`,   if your model does multi-class classification   (e.g. if it uses a `softmax` last-layer activation).* `(model.predict(x) > 0.5).astype(\"int32\")`,   if your model does binary classification   (e.g. if it uses a `sigmoid` last-layer activation).\n",
      "Predicted classes: [1 1 1 0 1]\n",
      "Actual Labels: [1, 1, 1, 0, 1]\n"
     ]
    }
   ],
   "source": [
    "encoded_predictions = deep_model.predict_classes(X_test_scaled[:5])\n",
    "print(f\"Predicted classes: {encoded_predictions}\")\n",
    "print(f\"Actual Labels: {list(y_test[:5])}\")"
   ]
  },
  {
   "cell_type": "markdown",
   "metadata": {},
   "source": [
    "## Saving the Trained Model"
   ]
  },
  {
   "cell_type": "code",
   "execution_count": 27,
   "metadata": {
    "scrolled": true
   },
   "outputs": [],
   "source": [
    "# test_x=X_test_scaled[[1][:]]"
   ]
  },
  {
   "cell_type": "code",
   "execution_count": 30,
   "metadata": {
    "scrolled": true
   },
   "outputs": [],
   "source": [
    "# test_x"
   ]
  },
  {
   "cell_type": "code",
   "execution_count": 31,
   "metadata": {
    "scrolled": true
   },
   "outputs": [],
   "source": [
    "# prediction = deep_model.predict_classes([test_x])[0]\n",
    "# print(prediction)"
   ]
  },
  {
   "cell_type": "code",
   "execution_count": 21,
   "metadata": {},
   "outputs": [],
   "source": [
    "# Save the model\n",
    "deep_model.save(\"redorwhite_model_trained.h5\")"
   ]
  },
  {
   "cell_type": "markdown",
   "metadata": {},
   "source": [
    "## Loading a Model"
   ]
  },
  {
   "cell_type": "code",
   "execution_count": 22,
   "metadata": {},
   "outputs": [],
   "source": [
    " # Load the model\n",
    "#from tensorflow.keras.models import load_model\n",
    "#redorwhite_model = load_model(\"redorwhite_model_trained.h5\")"
   ]
  },
  {
   "cell_type": "markdown",
   "metadata": {},
   "source": [
    "## Evaluating a Loaded Model"
   ]
  },
  {
   "cell_type": "code",
   "execution_count": 23,
   "metadata": {},
   "outputs": [],
   "source": [
    "#model_loss, model_accuracy = redorwhite_model.evaluate(\n",
    "    #X_test_scaled, y_test_categorical, verbose=2)\n",
    "#print(\n",
    "    #f\"Normal Neural Network - Loss: {model_loss}, Accuracy: {model_accuracy}\")"
   ]
  }
 ],
 "metadata": {
  "kernelspec": {
   "display_name": "Python 3",
   "language": "python",
   "name": "python3"
  },
  "language_info": {
   "codemirror_mode": {
    "name": "ipython",
    "version": 3
   },
   "file_extension": ".py",
   "mimetype": "text/x-python",
   "name": "python",
   "nbconvert_exporter": "python",
   "pygments_lexer": "ipython3",
   "version": "3.7.4"
  }
 },
 "nbformat": 4,
 "nbformat_minor": 2
}
