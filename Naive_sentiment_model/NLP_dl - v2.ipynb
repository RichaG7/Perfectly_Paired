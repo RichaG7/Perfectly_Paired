{
 "cells": [
  {
   "cell_type": "markdown",
   "metadata": {},
   "source": [
    "# Exploring Wine Review Data"
   ]
  },
  {
   "cell_type": "code",
   "execution_count": 17,
   "metadata": {},
   "outputs": [],
   "source": [
    "# Import dependencies\n",
    "import pandas as pd\n",
    "import matplotlib.pyplot as plt\n",
    "import numpy as np\n",
    "from sklearn.model_selection import train_test_split\n",
    "from sklearn.feature_extraction.text import CountVectorizer\n",
    "from sklearn.feature_extraction.text import TfidfTransformer\n",
    "from sklearn.naive_bayes import MultinomialNB\n",
    "from sklearn.naive_bayes import ComplementNB\n",
    "import pickle\n",
    "import nltk\n",
    "from nltk.corpus import wordnet as wn"
   ]
  },
  {
   "cell_type": "code",
   "execution_count": 18,
   "metadata": {},
   "outputs": [],
   "source": [
    "# Read data\n",
    "df = pd.read_csv(\"../Resources/winemag-data-130k-cleanedPunctuation.csv\")"
   ]
  },
  {
   "cell_type": "code",
   "execution_count": 3,
   "metadata": {},
   "outputs": [
    {
     "data": {
      "text/html": [
       "<div>\n",
       "<style scoped>\n",
       "    .dataframe tbody tr th:only-of-type {\n",
       "        vertical-align: middle;\n",
       "    }\n",
       "\n",
       "    .dataframe tbody tr th {\n",
       "        vertical-align: top;\n",
       "    }\n",
       "\n",
       "    .dataframe thead th {\n",
       "        text-align: right;\n",
       "    }\n",
       "</style>\n",
       "<table border=\"1\" class=\"dataframe\">\n",
       "  <thead>\n",
       "    <tr style=\"text-align: right;\">\n",
       "      <th></th>\n",
       "      <th>country</th>\n",
       "      <th>description</th>\n",
       "      <th>designation</th>\n",
       "      <th>points</th>\n",
       "      <th>price</th>\n",
       "      <th>province</th>\n",
       "      <th>region_one</th>\n",
       "      <th>region_two</th>\n",
       "      <th>taster_name</th>\n",
       "      <th>taster_twitter_handle</th>\n",
       "      <th>title</th>\n",
       "      <th>variety</th>\n",
       "      <th>winery</th>\n",
       "    </tr>\n",
       "  </thead>\n",
       "  <tbody>\n",
       "    <tr>\n",
       "      <th>0</th>\n",
       "      <td>Australia</td>\n",
       "      <td>This wine contains some material over 100 year...</td>\n",
       "      <td>Rare</td>\n",
       "      <td>100</td>\n",
       "      <td>350.0</td>\n",
       "      <td>Victoria</td>\n",
       "      <td>Rutherglen</td>\n",
       "      <td>NaN</td>\n",
       "      <td>Joe Czerwinski</td>\n",
       "      <td>@JoeCz</td>\n",
       "      <td>Chambers Rosewood Vineyards NV Rare Muscat (Ru...</td>\n",
       "      <td>Muscat</td>\n",
       "      <td>Chambers Rosewood Vineyards</td>\n",
       "    </tr>\n",
       "    <tr>\n",
       "      <th>1</th>\n",
       "      <td>Italy</td>\n",
       "      <td>Thick as molasses and dark as caramelized brow...</td>\n",
       "      <td>Occhio di Pernice</td>\n",
       "      <td>100</td>\n",
       "      <td>210.0</td>\n",
       "      <td>Tuscany</td>\n",
       "      <td>Vin Santo di Montepulciano</td>\n",
       "      <td>NaN</td>\n",
       "      <td>NaN</td>\n",
       "      <td>NaN</td>\n",
       "      <td>Avignonesi 1995 Occhio di Pernice  (Vin Santo ...</td>\n",
       "      <td>Prugnolo Gentile</td>\n",
       "      <td>Avignonesi</td>\n",
       "    </tr>\n",
       "    <tr>\n",
       "      <th>2</th>\n",
       "      <td>France</td>\n",
       "      <td>This is a fabulous wine from the greatest Cham...</td>\n",
       "      <td>Brut</td>\n",
       "      <td>100</td>\n",
       "      <td>259.0</td>\n",
       "      <td>Champagne</td>\n",
       "      <td>Champagne</td>\n",
       "      <td>NaN</td>\n",
       "      <td>Roger Voss</td>\n",
       "      <td>@vossroger</td>\n",
       "      <td>Krug 2002 Brut  (Champagne)</td>\n",
       "      <td>Champagne Blend</td>\n",
       "      <td>Krug</td>\n",
       "    </tr>\n",
       "    <tr>\n",
       "      <th>3</th>\n",
       "      <td>Italy</td>\n",
       "      <td>A perfect wine from a classic vintage the 2007...</td>\n",
       "      <td>Masseto</td>\n",
       "      <td>100</td>\n",
       "      <td>460.0</td>\n",
       "      <td>Tuscany</td>\n",
       "      <td>Toscana</td>\n",
       "      <td>NaN</td>\n",
       "      <td>NaN</td>\n",
       "      <td>NaN</td>\n",
       "      <td>Tenuta dell'Ornellaia 2007 Masseto Merlot (Tos...</td>\n",
       "      <td>Merlot</td>\n",
       "      <td>Tenuta dell'Ornellaia</td>\n",
       "    </tr>\n",
       "    <tr>\n",
       "      <th>4</th>\n",
       "      <td>Portugal</td>\n",
       "      <td>This is the latest release of what has long be...</td>\n",
       "      <td>Barca-Velha</td>\n",
       "      <td>100</td>\n",
       "      <td>450.0</td>\n",
       "      <td>Douro</td>\n",
       "      <td>NaN</td>\n",
       "      <td>NaN</td>\n",
       "      <td>Roger Voss</td>\n",
       "      <td>@vossroger</td>\n",
       "      <td>Casa Ferreirinha 2008 Barca-Velha Red (Douro)</td>\n",
       "      <td>Portuguese Red</td>\n",
       "      <td>Casa Ferreirinha</td>\n",
       "    </tr>\n",
       "  </tbody>\n",
       "</table>\n",
       "</div>"
      ],
      "text/plain": [
       "     country                                        description  \\\n",
       "0  Australia  This wine contains some material over 100 year...   \n",
       "1      Italy  Thick as molasses and dark as caramelized brow...   \n",
       "2     France  This is a fabulous wine from the greatest Cham...   \n",
       "3      Italy  A perfect wine from a classic vintage the 2007...   \n",
       "4   Portugal  This is the latest release of what has long be...   \n",
       "\n",
       "         designation  points  price   province                  region_one  \\\n",
       "0               Rare     100  350.0   Victoria                  Rutherglen   \n",
       "1  Occhio di Pernice     100  210.0    Tuscany  Vin Santo di Montepulciano   \n",
       "2               Brut     100  259.0  Champagne                   Champagne   \n",
       "3            Masseto     100  460.0    Tuscany                     Toscana   \n",
       "4        Barca-Velha     100  450.0      Douro                         NaN   \n",
       "\n",
       "  region_two     taster_name taster_twitter_handle  \\\n",
       "0        NaN  Joe Czerwinski                @JoeCz   \n",
       "1        NaN             NaN                   NaN   \n",
       "2        NaN      Roger Voss            @vossroger   \n",
       "3        NaN             NaN                   NaN   \n",
       "4        NaN      Roger Voss            @vossroger   \n",
       "\n",
       "                                               title           variety  \\\n",
       "0  Chambers Rosewood Vineyards NV Rare Muscat (Ru...            Muscat   \n",
       "1  Avignonesi 1995 Occhio di Pernice  (Vin Santo ...  Prugnolo Gentile   \n",
       "2                        Krug 2002 Brut  (Champagne)   Champagne Blend   \n",
       "3  Tenuta dell'Ornellaia 2007 Masseto Merlot (Tos...            Merlot   \n",
       "4      Casa Ferreirinha 2008 Barca-Velha Red (Douro)    Portuguese Red   \n",
       "\n",
       "                        winery  \n",
       "0  Chambers Rosewood Vineyards  \n",
       "1                   Avignonesi  \n",
       "2                         Krug  \n",
       "3        Tenuta dell'Ornellaia  \n",
       "4             Casa Ferreirinha  "
      ]
     },
     "execution_count": 3,
     "metadata": {},
     "output_type": "execute_result"
    }
   ],
   "source": [
    "del df['Unnamed: 0']\n",
    "df.head()"
   ]
  },
  {
   "cell_type": "code",
   "execution_count": 14,
   "metadata": {},
   "outputs": [
    {
     "data": {
      "text/html": [
       "<div>\n",
       "<style scoped>\n",
       "    .dataframe tbody tr th:only-of-type {\n",
       "        vertical-align: middle;\n",
       "    }\n",
       "\n",
       "    .dataframe tbody tr th {\n",
       "        vertical-align: top;\n",
       "    }\n",
       "\n",
       "    .dataframe thead th {\n",
       "        text-align: right;\n",
       "    }\n",
       "</style>\n",
       "<table border=\"1\" class=\"dataframe\">\n",
       "  <thead>\n",
       "    <tr style=\"text-align: right;\">\n",
       "      <th></th>\n",
       "      <th>points</th>\n",
       "      <th>price</th>\n",
       "    </tr>\n",
       "  </thead>\n",
       "  <tbody>\n",
       "    <tr>\n",
       "      <th>count</th>\n",
       "      <td>129970.0</td>\n",
       "      <td>120974.0</td>\n",
       "    </tr>\n",
       "    <tr>\n",
       "      <th>mean</th>\n",
       "      <td>88.0</td>\n",
       "      <td>35.0</td>\n",
       "    </tr>\n",
       "    <tr>\n",
       "      <th>std</th>\n",
       "      <td>3.0</td>\n",
       "      <td>41.0</td>\n",
       "    </tr>\n",
       "    <tr>\n",
       "      <th>min</th>\n",
       "      <td>80.0</td>\n",
       "      <td>4.0</td>\n",
       "    </tr>\n",
       "    <tr>\n",
       "      <th>25%</th>\n",
       "      <td>86.0</td>\n",
       "      <td>17.0</td>\n",
       "    </tr>\n",
       "    <tr>\n",
       "      <th>50%</th>\n",
       "      <td>88.0</td>\n",
       "      <td>25.0</td>\n",
       "    </tr>\n",
       "    <tr>\n",
       "      <th>75%</th>\n",
       "      <td>91.0</td>\n",
       "      <td>42.0</td>\n",
       "    </tr>\n",
       "    <tr>\n",
       "      <th>max</th>\n",
       "      <td>100.0</td>\n",
       "      <td>3300.0</td>\n",
       "    </tr>\n",
       "  </tbody>\n",
       "</table>\n",
       "</div>"
      ],
      "text/plain": [
       "         points     price\n",
       "count  129970.0  120974.0\n",
       "mean       88.0      35.0\n",
       "std         3.0      41.0\n",
       "min        80.0       4.0\n",
       "25%        86.0      17.0\n",
       "50%        88.0      25.0\n",
       "75%        91.0      42.0\n",
       "max       100.0    3300.0"
      ]
     },
     "execution_count": 14,
     "metadata": {},
     "output_type": "execute_result"
    }
   ],
   "source": [
    "df.describe().round()"
   ]
  },
  {
   "cell_type": "markdown",
   "metadata": {},
   "source": [
    "# Data Pre-processing"
   ]
  },
  {
   "cell_type": "code",
   "execution_count": 19,
   "metadata": {
    "scrolled": true
   },
   "outputs": [],
   "source": [
    "# Filter needed columns\n",
    "df_filtered = df[['description', 'variety','country','winery']]"
   ]
  },
  {
   "cell_type": "code",
   "execution_count": 20,
   "metadata": {},
   "outputs": [
    {
     "data": {
      "text/html": [
       "<div>\n",
       "<style scoped>\n",
       "    .dataframe tbody tr th:only-of-type {\n",
       "        vertical-align: middle;\n",
       "    }\n",
       "\n",
       "    .dataframe tbody tr th {\n",
       "        vertical-align: top;\n",
       "    }\n",
       "\n",
       "    .dataframe thead th {\n",
       "        text-align: right;\n",
       "    }\n",
       "</style>\n",
       "<table border=\"1\" class=\"dataframe\">\n",
       "  <thead>\n",
       "    <tr style=\"text-align: right;\">\n",
       "      <th></th>\n",
       "      <th>description</th>\n",
       "      <th>variety</th>\n",
       "      <th>country</th>\n",
       "      <th>winery</th>\n",
       "    </tr>\n",
       "  </thead>\n",
       "  <tbody>\n",
       "    <tr>\n",
       "      <th>0</th>\n",
       "      <td>This wine contains some material over 100 year...</td>\n",
       "      <td>Muscat</td>\n",
       "      <td>Australia</td>\n",
       "      <td>Chambers Rosewood Vineyards</td>\n",
       "    </tr>\n",
       "    <tr>\n",
       "      <th>1</th>\n",
       "      <td>Thick as molasses and dark as caramelized brow...</td>\n",
       "      <td>Prugnolo Gentile</td>\n",
       "      <td>Italy</td>\n",
       "      <td>Avignonesi</td>\n",
       "    </tr>\n",
       "    <tr>\n",
       "      <th>2</th>\n",
       "      <td>This is a fabulous wine from the greatest Cham...</td>\n",
       "      <td>Champagne Blend</td>\n",
       "      <td>France</td>\n",
       "      <td>Krug</td>\n",
       "    </tr>\n",
       "    <tr>\n",
       "      <th>3</th>\n",
       "      <td>A perfect wine from a classic vintage the 2007...</td>\n",
       "      <td>Merlot</td>\n",
       "      <td>Italy</td>\n",
       "      <td>Tenuta dell'Ornellaia</td>\n",
       "    </tr>\n",
       "    <tr>\n",
       "      <th>4</th>\n",
       "      <td>This is the latest release of what has long be...</td>\n",
       "      <td>Portuguese Red</td>\n",
       "      <td>Portugal</td>\n",
       "      <td>Casa Ferreirinha</td>\n",
       "    </tr>\n",
       "  </tbody>\n",
       "</table>\n",
       "</div>"
      ],
      "text/plain": [
       "                                         description           variety  \\\n",
       "0  This wine contains some material over 100 year...            Muscat   \n",
       "1  Thick as molasses and dark as caramelized brow...  Prugnolo Gentile   \n",
       "2  This is a fabulous wine from the greatest Cham...   Champagne Blend   \n",
       "3  A perfect wine from a classic vintage the 2007...            Merlot   \n",
       "4  This is the latest release of what has long be...    Portuguese Red   \n",
       "\n",
       "     country                       winery  \n",
       "0  Australia  Chambers Rosewood Vineyards  \n",
       "1      Italy                   Avignonesi  \n",
       "2     France                         Krug  \n",
       "3      Italy        Tenuta dell'Ornellaia  \n",
       "4   Portugal             Casa Ferreirinha  "
      ]
     },
     "execution_count": 20,
     "metadata": {},
     "output_type": "execute_result"
    }
   ],
   "source": [
    "# Drop NAs and duplicates\n",
    "df_filtered = df_filtered.dropna(how='any')\n",
    "df_filtered=df_filtered.drop_duplicates()\n",
    "df_filtered.head()"
   ]
  },
  {
   "cell_type": "code",
   "execution_count": 21,
   "metadata": {},
   "outputs": [],
   "source": [
    "# Identify x and y\n",
    "X = df_filtered['description']\n",
    "y = df_filtered['variety']"
   ]
  },
  {
   "cell_type": "code",
   "execution_count": 22,
   "metadata": {},
   "outputs": [],
   "source": [
    "# label encoder for y\n",
    "from sklearn import preprocessing\n",
    "from tensorflow.keras.utils import to_categorical\n",
    "label_encoder = preprocessing.LabelEncoder()\n",
    "label_encoder.fit(y)\n",
    "encoded_y = label_encoder.transform(y)\n",
    "\n",
    "# Convert encoded labels to one-hot-encoding\n",
    "y_categorical = to_categorical(encoded_y)\n",
    "y_list=list(zip(y,encoded_y))\n",
    "y_list=pd.DataFrame(y_list, columns=['Label','Class'])"
   ]
  },
  {
   "cell_type": "code",
   "execution_count": 23,
   "metadata": {},
   "outputs": [],
   "source": [
    "# Text preprocessing\n",
    "count_vect = CountVectorizer()\n",
    "X_counts = count_vect.fit_transform(X)\n",
    "tfidf_transformer = TfidfTransformer()\n",
    "X_tfidf = tfidf_transformer.fit_transform(X_counts)"
   ]
  },
  {
   "cell_type": "code",
   "execution_count": 24,
   "metadata": {},
   "outputs": [],
   "source": [
    "# split into train and test sets\n",
    "X_train, X_test, y_train, y_test = train_test_split(X_tfidf, y_categorical, test_size=0.2, random_state=100)"
   ]
  },
  {
   "cell_type": "code",
   "execution_count": 12,
   "metadata": {},
   "outputs": [
    {
     "data": {
      "text/plain": [
       "(95935, 40858)"
      ]
     },
     "execution_count": 12,
     "metadata": {},
     "output_type": "execute_result"
    }
   ],
   "source": [
    "X_train.shape"
   ]
  },
  {
   "cell_type": "code",
   "execution_count": 13,
   "metadata": {},
   "outputs": [
    {
     "data": {
      "text/plain": [
       "(23984, 40858)"
      ]
     },
     "execution_count": 13,
     "metadata": {},
     "output_type": "execute_result"
    }
   ],
   "source": [
    "X_test.shape"
   ]
  },
  {
   "cell_type": "code",
   "execution_count": 14,
   "metadata": {},
   "outputs": [
    {
     "data": {
      "text/plain": [
       "(95935, 701)"
      ]
     },
     "execution_count": 14,
     "metadata": {},
     "output_type": "execute_result"
    }
   ],
   "source": [
    " y_train.shape"
   ]
  },
  {
   "cell_type": "code",
   "execution_count": 15,
   "metadata": {},
   "outputs": [
    {
     "data": {
      "text/plain": [
       "(23984, 701)"
      ]
     },
     "execution_count": 15,
     "metadata": {},
     "output_type": "execute_result"
    }
   ],
   "source": [
    " y_test.shape"
   ]
  },
  {
   "cell_type": "markdown",
   "metadata": {},
   "source": [
    "# Deep learning "
   ]
  },
  {
   "cell_type": "code",
   "execution_count": 9,
   "metadata": {},
   "outputs": [],
   "source": [
    "\n",
    "from tensorflow.keras.models import Sequential\n",
    "from tensorflow.keras.layers import Dense\n",
    "\n",
    "model = Sequential()\n",
    "model.add(Dense(units=100, activation='relu', input_dim=40858))\n",
    "model.add(Dense(units=701, activation='softmax'))"
   ]
  },
  {
   "cell_type": "code",
   "execution_count": 10,
   "metadata": {},
   "outputs": [],
   "source": [
    "# Compile the model\n",
    "model.compile(loss=\"categorical_crossentropy\",\n",
    "              optimizer=\"adam\", metrics=['accuracy'])"
   ]
  },
  {
   "cell_type": "code",
   "execution_count": 12,
   "metadata": {},
   "outputs": [
    {
     "name": "stdout",
     "output_type": "stream",
     "text": [
      "WARNING:tensorflow:Falling back from v2 loop because of error: Failed to find data adapter that can handle input: <class 'scipy.sparse.csr.csr_matrix'>, <class 'NoneType'>\n",
      "Train on 95935 samples\n",
      "Epoch 1/3\n",
      "95935/95935 - 150s - loss: 2.6273 - accuracy: 0.4257\n",
      "Epoch 2/3\n",
      "95935/95935 - 158s - loss: 1.5534 - accuracy: 0.6366\n",
      "Epoch 3/3\n",
      "95935/95935 - 165s - loss: 1.1894 - accuracy: 0.7137\n"
     ]
    },
    {
     "data": {
      "text/plain": [
       "<tensorflow.python.keras.callbacks.History at 0x13a4d9d5048>"
      ]
     },
     "execution_count": 12,
     "metadata": {},
     "output_type": "execute_result"
    }
   ],
   "source": [
    "# Use the training data to fit (train) the model\n",
    "model.fit(\n",
    "    X_train,\n",
    "    y_train,\n",
    "    epochs=3,\n",
    "    shuffle=True,\n",
    "    verbose=2\n",
    ")"
   ]
  },
  {
   "cell_type": "code",
   "execution_count": 13,
   "metadata": {},
   "outputs": [],
   "source": [
    "# Save the model\n",
    "model.save(\"dl_v2.h5\")"
   ]
  },
  {
   "cell_type": "code",
   "execution_count": 15,
   "metadata": {},
   "outputs": [
    {
     "name": "stdout",
     "output_type": "stream",
     "text": [
      "WARNING:tensorflow:Falling back from v2 loop because of error: Failed to find data adapter that can handle input: <class 'scipy.sparse.csr.csr_matrix'>, <class 'NoneType'>\n",
      "23984/23984 - 13s - loss: 1.6025 - accuracy: 0.6044\n",
      "Loss: 1.6025264290987133, Accuracy: 0.6044029593467712\n"
     ]
    }
   ],
   "source": [
    "# Evaluate the model using the training data\n",
    "model_loss, model_accuracy = model.evaluate(X_test, y_test, verbose=2)\n",
    "print(f\"Loss: {model_loss}, Accuracy: {model_accuracy}\")"
   ]
  },
  {
   "cell_type": "code",
   "execution_count": 30,
   "metadata": {},
   "outputs": [],
   "source": [
    "import pickle\n",
    "vectorizer_file = \"tokenizer.sklearn\"\n",
    "pickle.dump(count_vect, open(vectorizer_file,'wb'))\n",
    "\n",
    "tokenizer_file = \"vectorizer.sklearn\"\n",
    "pickle.dump(tfidf_transformer, open(tokenizer_file,'wb'))"
   ]
  },
  {
   "cell_type": "code",
   "execution_count": 31,
   "metadata": {},
   "outputs": [],
   "source": [
    "model = load_model(\"dl_v2.h5\")"
   ]
  },
  {
   "cell_type": "code",
   "execution_count": 32,
   "metadata": {},
   "outputs": [],
   "source": [
    "# Reusing model\n",
    "import pickle\n",
    "from tensorflow.keras.models import load_model\n",
    "vectorizer = pickle.load(open(vectorizer_file, 'rb'))\n",
    "tokenizer = pickle.load(open(tokenizer_file, 'rb'))\n"
   ]
  },
  {
   "cell_type": "code",
   "execution_count": 40,
   "metadata": {},
   "outputs": [
    {
     "data": {
      "text/plain": [
       "array([[3.61994695e-04, 1.57652795e-03, 1.19487883e-03, 4.56790985e-06,\n",
       "        7.17451563e-04, 3.91342037e-04, 1.70623916e-05, 2.43123411e-03,\n",
       "        4.84761476e-05, 3.92587943e-04, 3.23136890e-04, 4.75713714e-05,\n",
       "        1.76917051e-03, 3.22498847e-03, 2.36443779e-03, 8.37505737e-04,\n",
       "        1.09817454e-04, 5.09041711e-04, 1.02509419e-03, 1.10452485e-04,\n",
       "        1.21345348e-03, 1.32164176e-04, 6.57803437e-04, 9.38081765e-04,\n",
       "        2.82378111e-04, 1.68485241e-03, 2.48682406e-03, 1.77100796e-04,\n",
       "        1.91984698e-03, 1.04622450e-03, 4.58072191e-06, 3.13404901e-03,\n",
       "        2.25078012e-03, 2.89478130e-03, 1.16702577e-04, 1.49583007e-04,\n",
       "        6.27127651e-04, 4.85585997e-06, 1.62799071e-04, 1.46683794e-03,\n",
       "        1.19194132e-03, 3.68533947e-05, 7.20304810e-03, 1.43133439e-04,\n",
       "        1.21478908e-04, 4.19714979e-06, 3.79407675e-06, 1.04182305e-04,\n",
       "        1.00250077e-03, 1.04489423e-04, 2.34914315e-03, 1.21748797e-03,\n",
       "        4.65232115e-05, 4.50103425e-06, 4.44115176e-06, 2.89896823e-04,\n",
       "        4.85284347e-03, 1.86230708e-03, 4.86623003e-06, 5.61272318e-05,\n",
       "        4.33418281e-05, 1.00095314e-03, 1.21667124e-02, 3.78052727e-03,\n",
       "        4.79791488e-05, 7.60916970e-04, 5.42690454e-04, 5.96087135e-04,\n",
       "        1.30661926e-03, 1.65961240e-03, 2.45289551e-03, 1.80467423e-02,\n",
       "        2.58722715e-03, 4.41358452e-06, 2.02365060e-04, 9.60194448e-05,\n",
       "        1.46627158e-03, 3.45152985e-05, 3.17456108e-03, 7.27978331e-05,\n",
       "        8.91029311e-04, 2.86492277e-02, 4.25698672e-04, 2.20404146e-03,\n",
       "        2.11282982e-03, 7.60195951e-04, 7.18669791e-04, 5.29826013e-03,\n",
       "        5.22563991e-04, 1.22710469e-03, 2.49110721e-03, 2.74099177e-03,\n",
       "        6.32804062e-04, 5.80687309e-04, 2.40483624e-03, 1.13839615e-05,\n",
       "        3.60640348e-04, 1.40092907e-05, 4.47192651e-05, 2.13380111e-03,\n",
       "        3.58255988e-04, 6.12306700e-04, 2.98260991e-03, 9.48958506e-04,\n",
       "        6.19352155e-04, 5.00447175e-04, 3.54075804e-03, 4.56332287e-04,\n",
       "        4.73084219e-05, 3.03975743e-04, 1.12470926e-03, 8.69135256e-04,\n",
       "        1.83428983e-05, 3.88795539e-04, 2.31562270e-04, 4.66809843e-06,\n",
       "        9.31873583e-05, 7.64432552e-05, 1.03028906e-05, 3.54159187e-04,\n",
       "        4.31535905e-03, 5.23039093e-03, 5.36991574e-04, 2.40836060e-03,\n",
       "        2.66525283e-04, 3.56401540e-02, 6.53144205e-04, 1.49110143e-04,\n",
       "        1.26429921e-04, 1.07019659e-04, 5.07704332e-04, 2.90896976e-04,\n",
       "        8.94108598e-05, 3.37701384e-03, 6.54276402e-04, 1.00293593e-03,\n",
       "        4.10151668e-04, 5.82553167e-03, 7.79825961e-04, 9.10585368e-05,\n",
       "        9.29204165e-04, 8.32922451e-05, 8.22383809e-05, 3.95843107e-03,\n",
       "        8.98128565e-05, 4.37516777e-04, 5.52620149e-05, 3.02950823e-04,\n",
       "        2.20590015e-03, 5.72273915e-04, 1.22349150e-03, 4.44591060e-05,\n",
       "        2.09888816e-03, 1.00644655e-03, 3.23469099e-03, 1.89185515e-03,\n",
       "        1.00471452e-05, 5.36185098e-06, 1.04412575e-04, 5.12599854e-06,\n",
       "        3.94556951e-03, 1.83382735e-03, 2.08612269e-04, 1.39537314e-03,\n",
       "        2.35376792e-05, 6.90034823e-04, 7.65477947e-04, 1.45723752e-04,\n",
       "        6.35150209e-05, 1.26918938e-04, 2.78558640e-04, 1.56190017e-05,\n",
       "        4.57761689e-06, 7.67381280e-04, 5.35437030e-05, 1.64286190e-04,\n",
       "        7.95460830e-04, 2.89080836e-05, 6.19290513e-04, 4.58785289e-05,\n",
       "        1.34760165e-03, 8.00558191e-05, 1.53654037e-05, 4.57752958e-06,\n",
       "        4.75836641e-05, 4.74619310e-06, 3.96335672e-04, 5.70556003e-05,\n",
       "        5.25401556e-04, 7.10870008e-05, 7.32863089e-03, 7.43883837e-04,\n",
       "        1.81736692e-03, 8.37704632e-04, 2.52637593e-03, 3.15349805e-03,\n",
       "        2.32374496e-05, 5.66998788e-04, 1.50018674e-03, 8.88884999e-04,\n",
       "        3.60744016e-05, 1.31912093e-04, 4.69114866e-06, 4.81732741e-06,\n",
       "        3.46168323e-04, 1.09698172e-04, 1.10228182e-04, 1.52254663e-03,\n",
       "        1.02212747e-04, 7.39329820e-03, 1.59319607e-03, 7.14987458e-04,\n",
       "        6.55810640e-04, 4.93915395e-05, 1.16702635e-03, 1.99924747e-04,\n",
       "        1.15406385e-03, 5.18827765e-05, 5.53260848e-04, 5.92181517e-04,\n",
       "        9.54068790e-04, 3.81355712e-05, 6.45780656e-03, 5.36826532e-03,\n",
       "        9.71340633e-04, 1.96169619e-03, 4.42285864e-06, 2.96311220e-04,\n",
       "        9.35742108e-04, 8.26580159e-04, 1.90393766e-03, 7.07938525e-05,\n",
       "        1.43568811e-03, 5.72641380e-04, 4.01254465e-06, 8.36819876e-04,\n",
       "        2.17639390e-05, 1.41282135e-03, 4.84282151e-03, 3.52605421e-04,\n",
       "        1.55855832e-05, 1.23898019e-04, 1.61333254e-03, 1.11843017e-03,\n",
       "        5.35634081e-06, 5.63266804e-04, 7.04123522e-04, 5.00660622e-04,\n",
       "        1.69156028e-05, 1.31782203e-03, 3.22937085e-05, 2.28186511e-03,\n",
       "        4.42722239e-06, 4.55696245e-05, 2.51774385e-04, 1.64618611e-03,\n",
       "        2.41594156e-04, 1.36034490e-04, 4.70058498e-04, 2.64748407e-04,\n",
       "        2.08204219e-04, 7.68336235e-04, 6.06454269e-04, 4.87556768e-04,\n",
       "        3.77358410e-05, 9.32780895e-05, 3.62491468e-03, 1.42151272e-04,\n",
       "        1.20568438e-03, 2.78225169e-04, 4.56158841e-06, 1.30264286e-03,\n",
       "        2.03355186e-04, 7.26695798e-05, 4.54272173e-04, 8.85527639e-04,\n",
       "        1.89411890e-04, 2.05718633e-03, 1.53895351e-04, 2.19725298e-05,\n",
       "        1.36905462e-02, 4.49172467e-06, 8.48795389e-05, 5.20347967e-05,\n",
       "        2.97701568e-04, 6.52301067e-04, 2.94410624e-04, 2.47947103e-03,\n",
       "        4.71543717e-06, 1.28485274e-03, 7.36856367e-04, 6.95097726e-04,\n",
       "        9.21568644e-05, 3.14979511e-03, 1.47165102e-03, 8.50361466e-05,\n",
       "        1.15192961e-03, 2.17719004e-04, 4.80999821e-04, 4.28324274e-05,\n",
       "        3.33883567e-04, 9.58353397e-04, 1.29373759e-04, 7.76260349e-05,\n",
       "        1.26439088e-04, 3.72198119e-05, 1.69146188e-05, 6.60725113e-04,\n",
       "        3.64812999e-03, 3.84720252e-03, 4.98054666e-04, 7.21888966e-04,\n",
       "        7.91938801e-05, 1.71794055e-03, 5.23420633e-04, 1.44918065e-03,\n",
       "        4.48974170e-04, 1.36718518e-05, 2.77494837e-05, 1.41596815e-04,\n",
       "        1.20135455e-03, 5.85331290e-04, 1.07531506e-03, 9.88739892e-04,\n",
       "        4.47570486e-03, 2.74905246e-02, 4.59046532e-06, 2.49849586e-03,\n",
       "        2.66047241e-03, 1.76811218e-03, 1.56807102e-04, 1.35282311e-03,\n",
       "        2.76305975e-04, 2.36365115e-04, 2.60736502e-04, 1.44383303e-04,\n",
       "        3.10960022e-05, 3.83810839e-05, 4.33937748e-06, 6.80235331e-04,\n",
       "        4.47519005e-06, 1.24526687e-03, 8.33032173e-05, 4.96579916e-04,\n",
       "        1.72633550e-03, 4.38356255e-05, 3.15206102e-03, 3.48340436e-05,\n",
       "        2.26244866e-03, 2.76639010e-04, 1.27749436e-03, 2.22620578e-03,\n",
       "        1.11265072e-04, 2.29423604e-04, 3.41404921e-05, 3.71982739e-03,\n",
       "        2.58655986e-04, 2.64511800e-05, 1.00191050e-04, 2.53675994e-03,\n",
       "        4.57608940e-06, 6.91025192e-03, 9.42322891e-04, 8.69516662e-05,\n",
       "        4.51130927e-06, 2.38936581e-03, 4.92841673e-06, 6.80916151e-03,\n",
       "        2.01440346e-03, 1.00132124e-03, 4.84244898e-03, 1.11080811e-03,\n",
       "        8.26159740e-05, 4.99161484e-04, 6.66789347e-05, 6.06187154e-04,\n",
       "        3.88591853e-03, 6.43192383e-04, 5.39112138e-03, 3.19914223e-04,\n",
       "        1.67385762e-04, 1.80876104e-05, 1.43734517e-03, 1.56905013e-03,\n",
       "        1.30698574e-03, 6.57291166e-05, 5.32709295e-04, 8.63677415e-04,\n",
       "        7.25965714e-04, 1.57998002e-03, 9.80988378e-04, 2.32952740e-03,\n",
       "        4.92843537e-05, 2.28649060e-05, 2.08264985e-03, 4.60323099e-06,\n",
       "        2.56621954e-03, 3.07268383e-05, 4.32771485e-05, 8.99343635e-04,\n",
       "        3.95957650e-05, 4.08096057e-05, 2.32681655e-03, 7.08954991e-04,\n",
       "        3.15936450e-05, 4.32202251e-06, 4.41148495e-06, 6.69641071e-04,\n",
       "        1.22994403e-04, 6.52209681e-04, 1.97174936e-03, 3.10057774e-04,\n",
       "        1.86600388e-04, 1.82739750e-03, 1.98149119e-05, 5.02773235e-03,\n",
       "        5.53308986e-03, 3.50400037e-03, 2.04997414e-04, 2.06159940e-03,\n",
       "        2.29009474e-03, 7.65678764e-04, 2.53670896e-05, 4.01480702e-06,\n",
       "        4.34135200e-06, 2.50019901e-03, 1.03133463e-03, 5.57712419e-03,\n",
       "        3.07107257e-04, 4.62233256e-05, 5.16762611e-06, 5.69703989e-04,\n",
       "        1.15966536e-02, 3.75955715e-04, 1.06476313e-02, 1.34828861e-05,\n",
       "        3.41123575e-03, 3.90210975e-04, 1.97047740e-02, 4.37376206e-04,\n",
       "        5.60572116e-05, 4.06007795e-03, 2.42506630e-05, 5.21501061e-05,\n",
       "        1.76897575e-03, 3.07644135e-04, 5.32556977e-03, 3.62004549e-03,\n",
       "        7.16268842e-04, 1.05973578e-03, 2.75940774e-03, 6.94065020e-05,\n",
       "        1.85184457e-04, 4.12906549e-04, 6.41225415e-05, 9.96825052e-04,\n",
       "        5.84801985e-03, 1.76594331e-05, 1.29852130e-03, 8.13842111e-04,\n",
       "        1.75963144e-03, 1.84584712e-03, 1.46201492e-04, 9.84038707e-05,\n",
       "        3.94679992e-05, 4.17144969e-04, 1.56024034e-04, 1.82819829e-04,\n",
       "        9.87661770e-06, 2.65528099e-04, 1.64942276e-02, 1.64593034e-03,\n",
       "        6.09174557e-03, 2.47392291e-03, 4.89608326e-04, 1.19768362e-03,\n",
       "        1.06466841e-02, 4.89609738e-06, 1.60310330e-04, 3.32691311e-03,\n",
       "        2.64326605e-04, 9.75747535e-04, 1.95766297e-05, 4.81063587e-04,\n",
       "        3.23196669e-04, 2.57871021e-03, 6.05122361e-04, 4.62076750e-05,\n",
       "        2.74771388e-04, 1.59946550e-02, 1.43470053e-04, 9.92063200e-04,\n",
       "        3.34395329e-03, 6.92706555e-03, 9.99838303e-05, 2.56317890e-05,\n",
       "        8.43622838e-04, 2.39867713e-05, 1.53243856e-03, 3.30056973e-05,\n",
       "        2.25308650e-05, 3.31524207e-04, 6.55991433e-04, 1.09786643e-02,\n",
       "        4.51345666e-04, 8.97043210e-04, 1.17648789e-03, 7.69203471e-04,\n",
       "        1.04493217e-03, 4.57917122e-06, 1.21631415e-03, 1.77426636e-02,\n",
       "        5.69819204e-05, 8.71387369e-04, 8.08603727e-05, 1.07899104e-04,\n",
       "        3.20339343e-03, 4.99532653e-05, 2.02925899e-03, 1.40426724e-04,\n",
       "        4.11537258e-06, 4.96925495e-05, 2.23973137e-03, 8.92919488e-04,\n",
       "        1.21314451e-03, 6.70915688e-05, 4.29589954e-06, 7.69080216e-05,\n",
       "        1.19389803e-03, 2.36542360e-03, 1.47252067e-04, 1.95681001e-03,\n",
       "        2.74666748e-03, 7.34838750e-03, 4.93258267e-06, 2.45932303e-03,\n",
       "        1.51217915e-03, 3.08363175e-04, 3.79437377e-04, 2.40436639e-04,\n",
       "        8.40731140e-04, 3.75294616e-03, 2.08213150e-05, 1.07477623e-04,\n",
       "        2.63634906e-03, 5.30459656e-05, 7.72457919e-04, 3.55437514e-05,\n",
       "        8.95628837e-05, 7.13378016e-04, 6.49946695e-03, 2.59452360e-03,\n",
       "        4.35059052e-03, 4.18047148e-06, 6.19879866e-05, 2.87721213e-03,\n",
       "        1.04178640e-03, 1.54798217e-02, 2.04587777e-04, 2.39662500e-03,\n",
       "        8.27931624e-04, 8.57526844e-04, 4.78382659e-04, 1.42205122e-03,\n",
       "        2.63935526e-05, 4.42161445e-06, 1.87001671e-04, 1.91791914e-03,\n",
       "        6.23934262e-04, 1.69103383e-03, 5.49836608e-04, 2.34641926e-03,\n",
       "        4.39775147e-04, 1.64701827e-02, 2.37278309e-05, 3.24256398e-05,\n",
       "        4.33072494e-03, 7.57636037e-04, 1.00538461e-03, 2.36274861e-03,\n",
       "        3.89869128e-05, 5.62101649e-03, 9.26678942e-04, 1.63354981e-03,\n",
       "        1.06580218e-03, 4.98875917e-04, 3.32549826e-05, 1.58414047e-03,\n",
       "        5.80465770e-04, 4.85330675e-04, 2.48465240e-05, 8.42725451e-04,\n",
       "        1.07302493e-03, 1.53635207e-04, 5.65816372e-05, 4.92618483e-06,\n",
       "        1.02731219e-05, 2.62504938e-04, 7.75777036e-04, 4.27332816e-06,\n",
       "        3.25874600e-04, 5.39987595e-05, 1.36812363e-04, 2.66962943e-05,\n",
       "        5.02766343e-05, 1.04240153e-03, 4.87905869e-04, 1.38210191e-04,\n",
       "        5.89313975e-04, 9.06647474e-05, 7.86643068e-04, 3.36325465e-05,\n",
       "        1.24305091e-03, 1.20796799e-03, 2.26650760e-03, 1.21372205e-03,\n",
       "        9.51998751e-04, 1.11754249e-04, 1.73227072e-05, 6.11712821e-05,\n",
       "        1.20431522e-03, 5.72274206e-04, 4.18389624e-04, 2.20081932e-03,\n",
       "        8.67719064e-04, 7.89502345e-04, 4.30882028e-06, 3.21725942e-03,\n",
       "        1.27812196e-03, 9.89963650e-04, 1.69801977e-04, 1.18741656e-04,\n",
       "        1.17390184e-04, 7.74001644e-04, 7.69244623e-04, 1.29735650e-04,\n",
       "        3.84628162e-04, 2.09576290e-04, 9.72418493e-05, 1.87806636e-05,\n",
       "        2.32596532e-04, 2.16341185e-04, 2.63170688e-04, 8.56018414e-06,\n",
       "        8.57490464e-04, 1.41701777e-04, 1.27268067e-05, 2.30139296e-04,\n",
       "        1.19503774e-03, 2.99147621e-04, 5.83288667e-04, 3.83932772e-03,\n",
       "        5.38938621e-04, 3.20898580e-05, 4.70700388e-06, 5.98313753e-04,\n",
       "        1.85933983e-04, 4.08070814e-03, 1.46337907e-05, 8.55298364e-04,\n",
       "        3.82081198e-05, 1.57642480e-05, 1.40174976e-04, 8.69323907e-04,\n",
       "        2.53183558e-03, 1.31067669e-03, 6.65631727e-04, 3.30224138e-04,\n",
       "        1.43745700e-02, 1.68030639e-03, 4.65300036e-06, 2.72481302e-05,\n",
       "        9.24762804e-04, 1.52670580e-03, 6.38702404e-05, 3.54227777e-05,\n",
       "        6.96147181e-05, 4.85868135e-04, 9.69236426e-04, 6.21116604e-04,\n",
       "        1.33398062e-04, 7.74351240e-04, 3.17243044e-03, 2.41976138e-03,\n",
       "        1.17695220e-02, 4.85694181e-04, 1.19047298e-03, 1.24421914e-03,\n",
       "        1.23761798e-04, 2.05765711e-03, 6.39634382e-05, 9.05354027e-05,\n",
       "        5.60251428e-05, 7.80238479e-04, 2.20118137e-03, 3.66015272e-04,\n",
       "        1.57218240e-02, 5.32685663e-05, 5.26472786e-03, 4.64312780e-06,\n",
       "        4.18864074e-05]], dtype=float32)"
      ]
     },
     "execution_count": 40,
     "metadata": {},
     "output_type": "execute_result"
    }
   ],
   "source": [
    "user_input=['semisweetchocolate']\n",
    "X_new = vectorizer.transform(user_input)\n",
    "X_new = tokenizer.transform(X_new)\n",
    "result = model.predict(X_new)\n",
    "result"
   ]
  },
  {
   "cell_type": "code",
   "execution_count": 39,
   "metadata": {},
   "outputs": [
    {
     "name": "stdout",
     "output_type": "stream",
     "text": [
      "Predicted class: [125]\n"
     ]
    },
    {
     "data": {
      "text/plain": [
       "0    Chardonnay\n",
       "Name: Label, dtype: object"
      ]
     },
     "execution_count": 39,
     "metadata": {},
     "output_type": "execute_result"
    }
   ],
   "source": [
    "# Decode the result\n",
    "predicted_class=model.predict_classes(X_new)\n",
    "predicted_class=pd.DataFrame(predicted_class,columns=['Class'])\n",
    "print(f\"Predicted class: {model.predict_classes(X_new)}\")\n",
    "\n",
    "result = predicted_class.merge(y_list,on='Class',how='left').drop_duplicates()\n",
    "result = result.Label\n",
    "result"
   ]
  }
 ],
 "metadata": {
  "kernelspec": {
   "display_name": "Python [conda env:pyml]",
   "language": "python",
   "name": "conda-env-pyml-py"
  },
  "language_info": {
   "codemirror_mode": {
    "name": "ipython",
    "version": 3
   },
   "file_extension": ".py",
   "mimetype": "text/x-python",
   "name": "python",
   "nbconvert_exporter": "python",
   "pygments_lexer": "ipython3",
   "version": "3.7.7"
  }
 },
 "nbformat": 4,
 "nbformat_minor": 2
}
